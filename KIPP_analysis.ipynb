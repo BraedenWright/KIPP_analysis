{
 "cells": [
  {
   "cell_type": "markdown",
   "id": "6f97375a",
   "metadata": {},
   "source": [
    "# Imports"
   ]
  },
  {
   "cell_type": "code",
   "execution_count": 1,
   "id": "b51b3bac",
   "metadata": {},
   "outputs": [],
   "source": [
    "# Basics\n",
    "import pandas as pd\n",
    "import numpy as np\n",
    "\n",
    "# Visuals\n",
    "import matplotlib.pyplot as plt\n",
    "import seaborn as sns\n"
   ]
  },
  {
   "cell_type": "code",
   "execution_count": 2,
   "id": "d208b4c2",
   "metadata": {},
   "outputs": [
    {
     "data": {
      "text/html": [
       "<div>\n",
       "<style scoped>\n",
       "    .dataframe tbody tr th:only-of-type {\n",
       "        vertical-align: middle;\n",
       "    }\n",
       "\n",
       "    .dataframe tbody tr th {\n",
       "        vertical-align: top;\n",
       "    }\n",
       "\n",
       "    .dataframe thead th {\n",
       "        text-align: right;\n",
       "    }\n",
       "</style>\n",
       "<table border=\"1\" class=\"dataframe\">\n",
       "  <thead>\n",
       "    <tr style=\"text-align: right;\">\n",
       "      <th></th>\n",
       "      <th>student_id</th>\n",
       "      <th>school_name</th>\n",
       "      <th>grade_level_2019</th>\n",
       "    </tr>\n",
       "  </thead>\n",
       "  <tbody>\n",
       "    <tr>\n",
       "      <th>0</th>\n",
       "      <td>13898</td>\n",
       "      <td>School G</td>\n",
       "      <td>1</td>\n",
       "    </tr>\n",
       "    <tr>\n",
       "      <th>1</th>\n",
       "      <td>27795</td>\n",
       "      <td>School G</td>\n",
       "      <td>1</td>\n",
       "    </tr>\n",
       "    <tr>\n",
       "      <th>2</th>\n",
       "      <td>22938</td>\n",
       "      <td>School E</td>\n",
       "      <td>1</td>\n",
       "    </tr>\n",
       "    <tr>\n",
       "      <th>3</th>\n",
       "      <td>22431</td>\n",
       "      <td>School F</td>\n",
       "      <td>1</td>\n",
       "    </tr>\n",
       "    <tr>\n",
       "      <th>4</th>\n",
       "      <td>18048</td>\n",
       "      <td>School E</td>\n",
       "      <td>1</td>\n",
       "    </tr>\n",
       "  </tbody>\n",
       "</table>\n",
       "</div>"
      ],
      "text/plain": [
       "   student_id school_name  grade_level_2019\n",
       "0       13898    School G                 1\n",
       "1       27795    School G                 1\n",
       "2       22938    School E                 1\n",
       "3       22431    School F                 1\n",
       "4       18048    School E                 1"
      ]
     },
     "execution_count": 2,
     "metadata": {},
     "output_type": "execute_result"
    }
   ],
   "source": [
    "# read data\n",
    "enroll = pd.read_csv('18_19_enrollment.csv')\n",
    "enroll.head()"
   ]
  },
  {
   "cell_type": "code",
   "execution_count": 3,
   "id": "892bf918",
   "metadata": {},
   "outputs": [
    {
     "name": "stdout",
     "output_type": "stream",
     "text": [
      "<class 'pandas.core.frame.DataFrame'>\n",
      "RangeIndex: 2788 entries, 0 to 2787\n",
      "Data columns (total 3 columns):\n",
      " #   Column            Non-Null Count  Dtype \n",
      "---  ------            --------------  ----- \n",
      " 0   student_id        2788 non-null   int64 \n",
      " 1   school_name       2788 non-null   object\n",
      " 2   grade_level_2019  2788 non-null   int64 \n",
      "dtypes: int64(2), object(1)\n",
      "memory usage: 65.5+ KB\n"
     ]
    }
   ],
   "source": [
    "enroll.info()"
   ]
  },
  {
   "cell_type": "code",
   "execution_count": 4,
   "id": "ddd59973",
   "metadata": {},
   "outputs": [
    {
     "data": {
      "text/html": [
       "<div>\n",
       "<style scoped>\n",
       "    .dataframe tbody tr th:only-of-type {\n",
       "        vertical-align: middle;\n",
       "    }\n",
       "\n",
       "    .dataframe tbody tr th {\n",
       "        vertical-align: top;\n",
       "    }\n",
       "\n",
       "    .dataframe thead th {\n",
       "        text-align: right;\n",
       "    }\n",
       "</style>\n",
       "<table border=\"1\" class=\"dataframe\">\n",
       "  <thead>\n",
       "    <tr style=\"text-align: right;\">\n",
       "      <th></th>\n",
       "      <th>student_id</th>\n",
       "      <th>year</th>\n",
       "      <th>map_term</th>\n",
       "      <th>subject</th>\n",
       "      <th>rit_score</th>\n",
       "      <th>percentile</th>\n",
       "      <th>quartile</th>\n",
       "      <th>typical_fall_to_spring_growth</th>\n",
       "    </tr>\n",
       "  </thead>\n",
       "  <tbody>\n",
       "    <tr>\n",
       "      <th>0</th>\n",
       "      <td>13898</td>\n",
       "      <td>2019</td>\n",
       "      <td>Fall</td>\n",
       "      <td>Reading</td>\n",
       "      <td>161</td>\n",
       "      <td>59</td>\n",
       "      <td>3</td>\n",
       "      <td>18</td>\n",
       "    </tr>\n",
       "    <tr>\n",
       "      <th>1</th>\n",
       "      <td>27795</td>\n",
       "      <td>2019</td>\n",
       "      <td>Fall</td>\n",
       "      <td>Reading</td>\n",
       "      <td>158</td>\n",
       "      <td>50</td>\n",
       "      <td>3</td>\n",
       "      <td>19</td>\n",
       "    </tr>\n",
       "    <tr>\n",
       "      <th>2</th>\n",
       "      <td>22938</td>\n",
       "      <td>2019</td>\n",
       "      <td>Fall</td>\n",
       "      <td>Reading</td>\n",
       "      <td>162</td>\n",
       "      <td>62</td>\n",
       "      <td>3</td>\n",
       "      <td>18</td>\n",
       "    </tr>\n",
       "    <tr>\n",
       "      <th>3</th>\n",
       "      <td>22431</td>\n",
       "      <td>2019</td>\n",
       "      <td>Fall</td>\n",
       "      <td>Reading</td>\n",
       "      <td>162</td>\n",
       "      <td>62</td>\n",
       "      <td>3</td>\n",
       "      <td>18</td>\n",
       "    </tr>\n",
       "    <tr>\n",
       "      <th>4</th>\n",
       "      <td>18048</td>\n",
       "      <td>2019</td>\n",
       "      <td>Fall</td>\n",
       "      <td>Reading</td>\n",
       "      <td>166</td>\n",
       "      <td>73</td>\n",
       "      <td>3</td>\n",
       "      <td>17</td>\n",
       "    </tr>\n",
       "  </tbody>\n",
       "</table>\n",
       "</div>"
      ],
      "text/plain": [
       "   student_id  year map_term  subject rit_score percentile quartile  \\\n",
       "0       13898  2019     Fall  Reading       161         59        3   \n",
       "1       27795  2019     Fall  Reading       158         50        3   \n",
       "2       22938  2019     Fall  Reading       162         62        3   \n",
       "3       22431  2019     Fall  Reading       162         62        3   \n",
       "4       18048  2019     Fall  Reading       166         73        3   \n",
       "\n",
       "  typical_fall_to_spring_growth  \n",
       "0                            18  \n",
       "1                            19  \n",
       "2                            18  \n",
       "3                            18  \n",
       "4                            17  "
      ]
     },
     "execution_count": 4,
     "metadata": {},
     "output_type": "execute_result"
    }
   ],
   "source": [
    "#\n",
    "map_scores = pd.read_csv('MAP_scores.csv')\n",
    "map_scores.head()"
   ]
  },
  {
   "cell_type": "code",
   "execution_count": 5,
   "id": "aeb64452",
   "metadata": {},
   "outputs": [
    {
     "name": "stdout",
     "output_type": "stream",
     "text": [
      "<class 'pandas.core.frame.DataFrame'>\n",
      "RangeIndex: 11118 entries, 0 to 11117\n",
      "Data columns (total 8 columns):\n",
      " #   Column                         Non-Null Count  Dtype \n",
      "---  ------                         --------------  ----- \n",
      " 0   student_id                     11118 non-null  int64 \n",
      " 1   year                           11118 non-null  int64 \n",
      " 2   map_term                       11118 non-null  object\n",
      " 3   subject                        11118 non-null  object\n",
      " 4   rit_score                      11118 non-null  object\n",
      " 5   percentile                     11118 non-null  object\n",
      " 6   quartile                       11118 non-null  object\n",
      " 7   typical_fall_to_spring_growth  11118 non-null  object\n",
      "dtypes: int64(2), object(6)\n",
      "memory usage: 695.0+ KB\n"
     ]
    }
   ],
   "source": [
    "map_scores.info()"
   ]
  },
  {
   "cell_type": "code",
   "execution_count": 6,
   "id": "1ac19e66",
   "metadata": {},
   "outputs": [
    {
     "data": {
      "text/html": [
       "<div>\n",
       "<style scoped>\n",
       "    .dataframe tbody tr th:only-of-type {\n",
       "        vertical-align: middle;\n",
       "    }\n",
       "\n",
       "    .dataframe tbody tr th {\n",
       "        vertical-align: top;\n",
       "    }\n",
       "\n",
       "    .dataframe thead th {\n",
       "        text-align: right;\n",
       "    }\n",
       "</style>\n",
       "<table border=\"1\" class=\"dataframe\">\n",
       "  <thead>\n",
       "    <tr style=\"text-align: right;\">\n",
       "      <th></th>\n",
       "      <th>student_id</th>\n",
       "      <th>program_name</th>\n",
       "    </tr>\n",
       "  </thead>\n",
       "  <tbody>\n",
       "    <tr>\n",
       "      <th>0</th>\n",
       "      <td>13898</td>\n",
       "      <td>SPED</td>\n",
       "    </tr>\n",
       "    <tr>\n",
       "      <th>1</th>\n",
       "      <td>27795</td>\n",
       "      <td>SPED</td>\n",
       "    </tr>\n",
       "    <tr>\n",
       "      <th>2</th>\n",
       "      <td>22938</td>\n",
       "      <td>.</td>\n",
       "    </tr>\n",
       "    <tr>\n",
       "      <th>3</th>\n",
       "      <td>22431</td>\n",
       "      <td>.</td>\n",
       "    </tr>\n",
       "    <tr>\n",
       "      <th>4</th>\n",
       "      <td>18048</td>\n",
       "      <td>.</td>\n",
       "    </tr>\n",
       "  </tbody>\n",
       "</table>\n",
       "</div>"
      ],
      "text/plain": [
       "   student_id program_name\n",
       "0       13898         SPED\n",
       "1       27795         SPED\n",
       "2       22938            .\n",
       "3       22431            .\n",
       "4       18048            ."
      ]
     },
     "execution_count": 6,
     "metadata": {},
     "output_type": "execute_result"
    }
   ],
   "source": [
    "spec_prog = pd.read_csv('special_programs.csv')\n",
    "spec_prog.head()"
   ]
  },
  {
   "cell_type": "code",
   "execution_count": 7,
   "id": "8a9e7f6e",
   "metadata": {},
   "outputs": [
    {
     "name": "stdout",
     "output_type": "stream",
     "text": [
      "<class 'pandas.core.frame.DataFrame'>\n",
      "RangeIndex: 2787 entries, 0 to 2786\n",
      "Data columns (total 2 columns):\n",
      " #   Column        Non-Null Count  Dtype \n",
      "---  ------        --------------  ----- \n",
      " 0   student_id    2787 non-null   int64 \n",
      " 1   program_name  2784 non-null   object\n",
      "dtypes: int64(1), object(1)\n",
      "memory usage: 43.7+ KB\n"
     ]
    }
   ],
   "source": [
    "spec_prog.info()"
   ]
  },
  {
   "cell_type": "code",
   "execution_count": 8,
   "id": "e5fbbb65",
   "metadata": {},
   "outputs": [
    {
     "data": {
      "text/html": [
       "<div>\n",
       "<style scoped>\n",
       "    .dataframe tbody tr th:only-of-type {\n",
       "        vertical-align: middle;\n",
       "    }\n",
       "\n",
       "    .dataframe tbody tr th {\n",
       "        vertical-align: top;\n",
       "    }\n",
       "\n",
       "    .dataframe thead th {\n",
       "        text-align: right;\n",
       "    }\n",
       "</style>\n",
       "<table border=\"1\" class=\"dataframe\">\n",
       "  <thead>\n",
       "    <tr style=\"text-align: right;\">\n",
       "      <th></th>\n",
       "      <th>student_id</th>\n",
       "      <th>school_name</th>\n",
       "      <th>grade_level_2019</th>\n",
       "      <th>year</th>\n",
       "      <th>map_term</th>\n",
       "      <th>subject</th>\n",
       "      <th>rit_score</th>\n",
       "      <th>percentile</th>\n",
       "      <th>quartile</th>\n",
       "      <th>typical_fall_to_spring_growth</th>\n",
       "    </tr>\n",
       "  </thead>\n",
       "  <tbody>\n",
       "    <tr>\n",
       "      <th>0</th>\n",
       "      <td>13898</td>\n",
       "      <td>School G</td>\n",
       "      <td>1</td>\n",
       "      <td>2019</td>\n",
       "      <td>Fall</td>\n",
       "      <td>Reading</td>\n",
       "      <td>161</td>\n",
       "      <td>59</td>\n",
       "      <td>3</td>\n",
       "      <td>18</td>\n",
       "    </tr>\n",
       "    <tr>\n",
       "      <th>1</th>\n",
       "      <td>27795</td>\n",
       "      <td>School G</td>\n",
       "      <td>1</td>\n",
       "      <td>2019</td>\n",
       "      <td>Fall</td>\n",
       "      <td>Reading</td>\n",
       "      <td>158</td>\n",
       "      <td>50</td>\n",
       "      <td>3</td>\n",
       "      <td>19</td>\n",
       "    </tr>\n",
       "    <tr>\n",
       "      <th>2</th>\n",
       "      <td>22938</td>\n",
       "      <td>School E</td>\n",
       "      <td>1</td>\n",
       "      <td>2019</td>\n",
       "      <td>Fall</td>\n",
       "      <td>Reading</td>\n",
       "      <td>162</td>\n",
       "      <td>62</td>\n",
       "      <td>3</td>\n",
       "      <td>18</td>\n",
       "    </tr>\n",
       "    <tr>\n",
       "      <th>3</th>\n",
       "      <td>22431</td>\n",
       "      <td>School F</td>\n",
       "      <td>1</td>\n",
       "      <td>2019</td>\n",
       "      <td>Fall</td>\n",
       "      <td>Reading</td>\n",
       "      <td>162</td>\n",
       "      <td>62</td>\n",
       "      <td>3</td>\n",
       "      <td>18</td>\n",
       "    </tr>\n",
       "    <tr>\n",
       "      <th>4</th>\n",
       "      <td>18048</td>\n",
       "      <td>School E</td>\n",
       "      <td>1</td>\n",
       "      <td>2019</td>\n",
       "      <td>Fall</td>\n",
       "      <td>Reading</td>\n",
       "      <td>166</td>\n",
       "      <td>73</td>\n",
       "      <td>3</td>\n",
       "      <td>17</td>\n",
       "    </tr>\n",
       "  </tbody>\n",
       "</table>\n",
       "</div>"
      ],
      "text/plain": [
       "   student_id school_name  grade_level_2019  year map_term  subject rit_score  \\\n",
       "0       13898    School G                 1  2019     Fall  Reading       161   \n",
       "1       27795    School G                 1  2019     Fall  Reading       158   \n",
       "2       22938    School E                 1  2019     Fall  Reading       162   \n",
       "3       22431    School F                 1  2019     Fall  Reading       162   \n",
       "4       18048    School E                 1  2019     Fall  Reading       166   \n",
       "\n",
       "  percentile quartile typical_fall_to_spring_growth  \n",
       "0         59        3                            18  \n",
       "1         50        3                            19  \n",
       "2         62        3                            18  \n",
       "3         62        3                            18  \n",
       "4         73        3                            17  "
      ]
     },
     "execution_count": 8,
     "metadata": {},
     "output_type": "execute_result"
    }
   ],
   "source": [
    "almost_df = enroll.merge(map_scores, how='right', left_on='student_id', right_on='student_id')\n",
    "almost_df.head()"
   ]
  },
  {
   "cell_type": "code",
   "execution_count": 9,
   "id": "c62a068c",
   "metadata": {},
   "outputs": [],
   "source": [
    "df = almost_df.merge(spec_prog, how='right', left_on='student_id', right_on='student_id')"
   ]
  },
  {
   "cell_type": "code",
   "execution_count": 10,
   "id": "59baf8db",
   "metadata": {},
   "outputs": [
    {
     "name": "stdout",
     "output_type": "stream",
     "text": [
      "<class 'pandas.core.frame.DataFrame'>\n",
      "Int64Index: 11122 entries, 0 to 11121\n",
      "Data columns (total 11 columns):\n",
      " #   Column                         Non-Null Count  Dtype \n",
      "---  ------                         --------------  ----- \n",
      " 0   student_id                     11122 non-null  int64 \n",
      " 1   school_name                    11122 non-null  object\n",
      " 2   grade_level_2019               11122 non-null  int64 \n",
      " 3   year                           11122 non-null  int64 \n",
      " 4   map_term                       11122 non-null  object\n",
      " 5   subject                        11122 non-null  object\n",
      " 6   rit_score                      11122 non-null  object\n",
      " 7   percentile                     11122 non-null  object\n",
      " 8   quartile                       11122 non-null  object\n",
      " 9   typical_fall_to_spring_growth  11122 non-null  object\n",
      " 10  program_name                   11110 non-null  object\n",
      "dtypes: int64(3), object(8)\n",
      "memory usage: 1.0+ MB\n"
     ]
    }
   ],
   "source": [
    "# check data types\n",
    "df.info()"
   ]
  },
  {
   "cell_type": "code",
   "execution_count": 11,
   "id": "edb0ac9e",
   "metadata": {},
   "outputs": [
    {
     "data": {
      "text/plain": [
       "(11122, 11)"
      ]
     },
     "execution_count": 11,
     "metadata": {},
     "output_type": "execute_result"
    }
   ],
   "source": [
    "# student_id to obj - done\n",
    "# grade_level_2019 to obj - done\n",
    "# year to obj - done\n",
    "# (review) rit_score to int - issue converting and needs investigation - 999 cases of ('.')\n",
    "# (review) percentile to int - same as rit_score\n",
    "df.shape"
   ]
  },
  {
   "cell_type": "code",
   "execution_count": 12,
   "id": "6c1863fc",
   "metadata": {},
   "outputs": [
    {
     "name": "stdout",
     "output_type": "stream",
     "text": [
      "<class 'pandas.core.frame.DataFrame'>\n",
      "Int64Index: 11122 entries, 0 to 11121\n",
      "Data columns (total 11 columns):\n",
      " #   Column                         Non-Null Count  Dtype \n",
      "---  ------                         --------------  ----- \n",
      " 0   student_id                     11122 non-null  object\n",
      " 1   school_name                    11122 non-null  object\n",
      " 2   grade_level_2019               11122 non-null  object\n",
      " 3   year                           11122 non-null  object\n",
      " 4   map_term                       11122 non-null  object\n",
      " 5   subject                        11122 non-null  object\n",
      " 6   rit_score                      11122 non-null  object\n",
      " 7   percentile                     11122 non-null  object\n",
      " 8   quartile                       11122 non-null  object\n",
      " 9   typical_fall_to_spring_growth  11122 non-null  object\n",
      " 10  program_name                   11110 non-null  object\n",
      "dtypes: object(11)\n",
      "memory usage: 1.0+ MB\n"
     ]
    }
   ],
   "source": [
    "df['student_id'] = df['student_id'].astype(object)\n",
    "df['grade_level_2019'] = df['grade_level_2019'].astype(object)\n",
    "df['year'] = df['year'].astype(object)\n",
    "# df['rit_score'] = df['rit_score'].astype(int)\n",
    "# df['percentile'] = df['percentile'].astype(int)\n",
    "\n",
    "df.info()"
   ]
  },
  {
   "cell_type": "code",
   "execution_count": 13,
   "id": "5be29ea5",
   "metadata": {},
   "outputs": [
    {
     "data": {
      "text/plain": [
       "(11110, 11)"
      ]
     },
     "execution_count": 13,
     "metadata": {},
     "output_type": "execute_result"
    }
   ],
   "source": [
    "# drop nulls\n",
    "df = df.dropna()\n",
    "df.shape"
   ]
  },
  {
   "cell_type": "code",
   "execution_count": 14,
   "id": "738a0079",
   "metadata": {},
   "outputs": [
    {
     "data": {
      "text/plain": [
       "(10113, 11)"
      ]
     },
     "execution_count": 14,
     "metadata": {},
     "output_type": "execute_result"
    }
   ],
   "source": [
    "# check for causes or insights for rit_score = '.'\n",
    "df[df.rit_score != '.'].shape"
   ]
  },
  {
   "cell_type": "code",
   "execution_count": 15,
   "id": "8723d97a",
   "metadata": {},
   "outputs": [],
   "source": [
    "# Might be worth dropping rows with a rit_score = '.'\n",
    "df = df[df.rit_score != '.']"
   ]
  },
  {
   "cell_type": "code",
   "execution_count": 16,
   "id": "76d93186",
   "metadata": {},
   "outputs": [],
   "source": [
    "df['rit_score'] = df['rit_score'].astype(int)\n"
   ]
  },
  {
   "cell_type": "code",
   "execution_count": null,
   "id": "bead59b9",
   "metadata": {},
   "outputs": [],
   "source": []
  },
  {
   "cell_type": "code",
   "execution_count": null,
   "id": "5ba048d9",
   "metadata": {},
   "outputs": [],
   "source": []
  },
  {
   "cell_type": "code",
   "execution_count": null,
   "id": "8788cf52",
   "metadata": {},
   "outputs": [],
   "source": []
  }
 ],
 "metadata": {
  "kernelspec": {
   "display_name": "Python 3 (ipykernel)",
   "language": "python",
   "name": "python3"
  },
  "language_info": {
   "codemirror_mode": {
    "name": "ipython",
    "version": 3
   },
   "file_extension": ".py",
   "mimetype": "text/x-python",
   "name": "python",
   "nbconvert_exporter": "python",
   "pygments_lexer": "ipython3",
   "version": "3.9.7"
  }
 },
 "nbformat": 4,
 "nbformat_minor": 5
}
